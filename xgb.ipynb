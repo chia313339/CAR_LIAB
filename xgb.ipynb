{
 "cells": [
  {
   "cell_type": "code",
   "execution_count": null,
   "metadata": {},
   "outputs": [],
   "source": [
    "import numpy as np \n",
    "import pandas as pd \n",
    "import gc\n",
    "import seaborn as sns\n",
    "import matplotlib.pyplot as plt\n",
    "import warnings\n",
    "warnings.filterwarnings('ignore')\n",
    "from sklearn.model_selection import StratifiedKFold\n",
    "from sklearn.metrics import roc_auc_score, f1_score, cohen_kappa_score, precision_score, recall_score, confusion_matrix\n",
    "import xgboost as xgb\n",
    "from sklearn.externals import joblib "
   ]
  },
  {
   "cell_type": "code",
   "execution_count": null,
   "metadata": {},
   "outputs": [],
   "source": [
    "dataset = pd.read_csv(\"dataset.csv\")\n",
    "train_df = dataset[dataset['START_DATETIME']<'2017-01-01']\n",
    "test_df = dataset[dataset['START_DATETIME']>='2017-01-01']\n",
    "del(dataset)\n",
    "train_df = train_df.drop('START_DATETIME',axis=1)\n",
    "test_df = test_df.drop('START_DATETIME',axis=1)\n",
    "y_train = traindata['LOSS_RATE_IND']\n",
    "y_test = testdata['LOSS_RATE_IND']\n",
    "train_cols = [c for c in train_df.columns if c not in [\"LOSS_RATE\",'LOSS_RATE_IND']]\n",
    "\n",
    "folds = StratifiedKFold(n_splits=5, shuffle=True, random_state=1001)\n",
    "y_train.value_counts()"
   ]
  },
  {
   "cell_type": "code",
   "execution_count": null,
   "metadata": {},
   "outputs": [],
   "source": [
    "weight_ratio = float(len(y_train[y_train == 0]))/float(len(y_train[y_train == 1]))\n",
    "weight_ratio\n",
    "\n",
    "w_array = np.array([1]*y_train.shape[0])\n",
    "w_array\n",
    "\n",
    "w_array[y_train==1] = weight_ratio\n",
    "w_array[y_train==0] = 1- weight_ratio\n",
    "w_array\n",
    "\n",
    "test_df = test_df[train_cols]\n",
    "print(test_df.shape)\n",
    "print(train_df.shape)"
   ]
  },
  {
   "cell_type": "code",
   "execution_count": null,
   "metadata": {},
   "outputs": [],
   "source": [
    "dev_result = np.zeros(train_df.shape[0])\n",
    "pred_te = np.zeros(test_df.shape[0])\n",
    "\n",
    "feature_importance_df = pd.DataFrame()\n",
    "\n",
    "for n_fold, (trn_idx, val_idx) in enumerate(folds.split(train_df, y_train)):\n",
    "    \n",
    "    trn_x, trn_y = train_df[train_cols].iloc[trn_idx], y_train.iloc[trn_idx]\n",
    "    val_x, val_y = train_df[train_cols].iloc[val_idx], y_train.iloc[val_idx]\n",
    "    \n",
    "    dtrain = xgb.DMatrix(trn_x, trn_y, feature_names=trn_x.columns)\n",
    "    dval = xgb.DMatrix(val_x, val_y, feature_names=val_x.columns)\n",
    "    \n",
    "    clf = xgb.train(params=params, dtrain=dtrain, num_boost_round=5000, evals=[(dtrain, \"Train\"), (dval, \"Val\")],\n",
    "        verbose_eval= 100, early_stopping_rounds=50) \n",
    "    \n",
    "    joblib.dump(clf, 'Model/clf_xgb_'+str(n_fold+1)+'.pkl')\n",
    "    \n",
    "    dev_result[val_idx] = clf.predict(xgb.DMatrix(val_x))\n",
    "    pred_te += clf.predict(xgb.DMatrix(test_df)) / folds.n_splits"
   ]
  },
  {
   "cell_type": "code",
   "execution_count": null,
   "metadata": {},
   "outputs": [],
   "source": [
    "print('\\nCV AUC score %.6f & std %.6f' % (roc_auc_score(y_train, dev_result), np.std((dev_result))))\n",
    "print('CV Precision score %.6f' % (precision_score(y_train, np.round(dev_result))))\n",
    "print('CV Recall score %.6f' % (recall_score(y_train, np.round(dev_result))))\n",
    "print('CV F1 score %.6f' % (f1_score(y_train, np.round(dev_result))))\n",
    "print('CV Kappa score %.6f' % (cohen_kappa_score(y_train, np.round(dev_result))))"
   ]
  },
  {
   "cell_type": "code",
   "execution_count": null,
   "metadata": {},
   "outputs": [],
   "source": [
    "from sklearn.metrics import roc_curve, auc\n",
    "fpr, tpr, thresholds = roc_curve(y_test, pred_te)\n",
    "roc_auc = auc(fpr, tpr) # compute area under the curve\n",
    "roc_auc\n",
    "\n",
    "thresholds\n",
    "\n",
    "def Find_Optimal_Cutoff(target, predicted):\n",
    "    fpr, tpr, threshold = roc_curve(target, predicted)\n",
    "    i = np.arange(len(tpr)) \n",
    "    roc = pd.DataFrame({'tf' : pd.Series(tpr-(1-fpr), index=i), 'threshold' : pd.Series(threshold, index=i)})\n",
    "    roc_t = roc.ix[(roc.tf-0).abs().argsort()[:1]]\n",
    "\n",
    "    return list(roc_t['threshold']) \n",
    "\n",
    "Find_Optimal_Cutoff(y_test, pred_te)"
   ]
  },
  {
   "cell_type": "code",
   "execution_count": null,
   "metadata": {},
   "outputs": [],
   "source": [
    "pred_y = np.where(pred_te >=0.03281814092770219, 1, 0)\n",
    "roc_auc_score(y_test, pred_y)\n",
    "\n",
    "confusion_matrix(y_test, pred_y)\n",
    "\n",
    "print(confusion_matrix(y_test, pred_y)[0,0]/confusion_matrix(y_test, pred_y)[0].sum())\n",
    "print(confusion_matrix(y_test, pred_y)[1,1]/confusion_matrix(y_test, pred_y)[1].sum())\n",
    "print((confusion_matrix(y_test, pred_y)[1,1]+confusion_matrix(y_test, pred_y)[0,0])/confusion_matrix(y_test, pred_y).sum())"
   ]
  },
  {
   "cell_type": "code",
   "execution_count": null,
   "metadata": {},
   "outputs": [],
   "source": []
  },
  {
   "cell_type": "code",
   "execution_count": null,
   "metadata": {},
   "outputs": [],
   "source": []
  },
  {
   "cell_type": "code",
   "execution_count": null,
   "metadata": {},
   "outputs": [],
   "source": []
  },
  {
   "cell_type": "code",
   "execution_count": null,
   "metadata": {},
   "outputs": [],
   "source": []
  },
  {
   "cell_type": "code",
   "execution_count": null,
   "metadata": {},
   "outputs": [],
   "source": []
  },
  {
   "cell_type": "code",
   "execution_count": null,
   "metadata": {},
   "outputs": [],
   "source": []
  }
 ],
 "metadata": {
  "kernelspec": {
   "display_name": "Python 3",
   "language": "python",
   "name": "python3"
  },
  "language_info": {
   "codemirror_mode": {
    "name": "ipython",
    "version": 3
   },
   "file_extension": ".py",
   "mimetype": "text/x-python",
   "name": "python",
   "nbconvert_exporter": "python",
   "pygments_lexer": "ipython3",
   "version": "3.7.3"
  }
 },
 "nbformat": 4,
 "nbformat_minor": 2
}
